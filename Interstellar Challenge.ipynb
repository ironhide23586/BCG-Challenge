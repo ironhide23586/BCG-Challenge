{
 "cells": [
  {
   "cell_type": "code",
   "execution_count": 1,
   "metadata": {
    "collapsed": true
   },
   "outputs": [],
   "source": [
    "import cv2\n",
    "import numpy as np\n",
    "from glob import glob\n",
    "import os\n",
    "import sys"
   ]
  },
  {
   "cell_type": "code",
   "execution_count": 3,
   "metadata": {},
   "outputs": [
    {
     "data": {
      "text/plain": [
       "['data\\\\S1A_IW_GRDH_1SDV_20180807T165207_20180807T165232_023143_02838C_198F.SAFE',\n 'data\\\\S1B_IW_GRDH_1SDV_20180911T165935_20180911T170000_012670_017612_7BAC.SAFE',\n 'data\\\\S2A_MSIL1C_20160929T102022_N0204_R065_T33UUT_20160929T102344.SAFE',\n 'data\\\\S2A_MSIL1C_20160929T102022_N0204_R065_T33UUU_20160929T102344.SAFE',\n 'data\\\\S2A_MSIL2A_20180906T101021_N0208_R022_T33UUT_20180906T131549.SAFE']"
      ]
     },
     "execution_count": 3,
     "metadata": {},
     "output_type": "execute_result"
    }
   ],
   "source": [
    "data_folders = glob('data' + os.sep + '*')\n",
    "data_folders"
   ]
  },
  {
   "cell_type": "code",
   "execution_count": 4,
   "metadata": {},
   "outputs": [
    {
     "data": {
      "text/plain": [
       "['data\\\\S1A_IW_GRDH_1SDV_20180807T165207_20180807T165232_023143_02838C_198F.SAFE',\n 'data\\\\S1B_IW_GRDH_1SDV_20180911T165935_20180911T170000_012670_017612_7BAC.SAFE']"
      ]
     },
     "execution_count": 4,
     "metadata": {},
     "output_type": "execute_result"
    }
   ],
   "source": [
    "sentinel_1_SAR_folders = [d for d in data_folders if 'S1' in d]\n",
    "sentinel_1_SAR_folders"
   ]
  },
  {
   "cell_type": "code",
   "execution_count": 5,
   "metadata": {},
   "outputs": [
    {
     "data": {
      "text/plain": [
       "['data\\\\S1A_IW_GRDH_1SDV_20180807T165207_20180807T165232_023143_02838C_198F.SAFE\\\\measurement\\\\s1a-iw-grd-vh-20180807t165207-20180807t165232-023143-02838c-002.tiff',\n 'data\\\\S1A_IW_GRDH_1SDV_20180807T165207_20180807T165232_023143_02838C_198F.SAFE\\\\measurement\\\\s1a-iw-grd-vv-20180807t165207-20180807t165232-023143-02838c-001.tiff']"
      ]
     },
     "execution_count": 5,
     "metadata": {},
     "output_type": "execute_result"
    }
   ],
   "source": [
    "f_s1a_201808 = [f for f in sentinel_1_SAR_folders if '201808' in f][0]\n",
    "img_list_suffix = 'measurement' + os.sep + '*.tiff'\n",
    "s1a_201808_img_paths = glob(f_s1a_201808 + os.sep + img_list_suffix)\n",
    "s1a_201808_img_paths"
   ]
  },
  {
   "cell_type": "code",
   "execution_count": 6,
   "metadata": {
    "collapsed": true
   },
   "outputs": [],
   "source": [
    "s1a_201808_vh_im = cv2.imread(s1a_201808_img_paths[0])"
   ]
  },
  {
   "cell_type": "code",
   "execution_count": 8,
   "metadata": {},
   "outputs": [
    {
     "ename": "MemoryError",
     "evalue": "",
     "traceback": [
      "\u001b[1;31m---------------------------------------------------------------------------\u001b[0m",
      "\u001b[1;31mMemoryError\u001b[0m                               Traceback (most recent call last)",
      "\u001b[1;32m<ipython-input-8-f0e664be240a>\u001b[0m in \u001b[0;36m<module>\u001b[1;34m()\u001b[0m\n\u001b[1;32m----> 1\u001b[1;33m \u001b[0mim\u001b[0m \u001b[1;33m=\u001b[0m \u001b[1;36m1.\u001b[0m \u001b[1;33m*\u001b[0m \u001b[0ms1a_201808_vh_im\u001b[0m \u001b[1;33m/\u001b[0m \u001b[0ms1a_201808_vh_im\u001b[0m\u001b[1;33m.\u001b[0m\u001b[0mmax\u001b[0m\u001b[1;33m(\u001b[0m\u001b[1;33m)\u001b[0m\u001b[1;33m\u001b[0m\u001b[0m\n\u001b[0m",
      "\u001b[1;31mMemoryError\u001b[0m: "
     ],
     "output_type": "error"
    }
   ],
   "source": [
    "im = 1. * s1a_201808_vh_im / s1a_201808_vh_im.max()"
   ]
  },
  {
   "cell_type": "code",
   "execution_count": null,
   "metadata": {
    "collapsed": true
   },
   "outputs": [],
   "source": []
  }
 ],
 "metadata": {
  "kernelspec": {
   "display_name": "Python 3",
   "language": "python",
   "name": "python3"
  },
  "language_info": {
   "codemirror_mode": {
    "name": "ipython",
    "version": 3
   },
   "file_extension": ".py",
   "mimetype": "text/x-python",
   "name": "python",
   "nbconvert_exporter": "python",
   "pygments_lexer": "ipython3",
   "version": "3.6.3"
  }
 },
 "nbformat": 4,
 "nbformat_minor": 2
}
